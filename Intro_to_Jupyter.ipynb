{
 "cells": [
  {
   "cell_type": "markdown",
   "id": "8f74942b",
   "metadata": {},
   "source": [
    "2.2. Create a new Markdown cell and write a brief introduction to Jupyter Notebooks."
   ]
  },
  {
   "cell_type": "markdown",
   "id": "dfac092c",
   "metadata": {},
   "source": [
    "# Introduction to Jupyter Notebooks\n",
    "\n",
    "[Jupyter Notebook](https://jupyter.org/) is an open-source web application that allows you to create and share documents containing live code, equations, visualizations, and narrative text. It is widely used in data science, research, education, and various other fields for interactive computing and data analysis.\n",
    "\n",
    "## Features of Jupyter Notebooks:\n",
    "- **Interactive Environment**: Jupyter Notebooks provide an interactive environment where you can write and execute code in real-time.\n",
    "- **Support for Multiple Programming Languages**: Although primarily used with Python, Jupyter Notebooks support over 40 programming languages, including R, Julia, and Scala.\n",
    "- **Rich Output**: You can generate rich output such as tables, plots, images, and interactive widgets directly within the notebook.\n",
    "- **Markdown Support**: Markdown cells allow you to write formatted text, add headings, lists, links, and even mathematical expressions using LaTeX syntax.\n",
    "- **Notebook Sharing**: Jupyter Notebooks can be easily shared with others via email, GitHub, or hosted platforms like Google Colab and JupyterHub.\n",
    "\n",
    "Jupyter Notebooks have become an indispensable tool for data scientists, researchers, educators, and anyone who wants to explore and analyze data in an interactive and collaborative manner.\n"
   ]
  },
  {
   "cell_type": "markdown",
   "id": "247e3242",
   "metadata": {},
   "source": [
    "2.3. Create a new Code cell and write a simple Python expression (e.g., 2 + 2)."
   ]
  },
  {
   "cell_type": "code",
   "execution_count": 1,
   "id": "171487db",
   "metadata": {},
   "outputs": [
    {
     "name": "stdout",
     "output_type": "stream",
     "text": [
      "4\n"
     ]
    }
   ],
   "source": [
    "a=2+2\n",
    "print(a)"
   ]
  },
  {
   "cell_type": "markdown",
   "id": "95580a77",
   "metadata": {},
   "source": [
    "2.5. Experiment with adding, deleting, and moving cells within the notebook."
   ]
  },
  {
   "cell_type": "markdown",
   "id": "d92ed4aa",
   "metadata": {},
   "source": [
    "Adding cell using '+', moving using the up and down arrows"
   ]
  },
  {
   "cell_type": "markdown",
   "id": "7d3cd89a",
   "metadata": {},
   "source": [
    "3.1. Learn basic Markdown syntax for text formatting (e.g., headings, bold, italic).\n",
    "3.2. Practice creating Markdown cells with formatted text and headings."
   ]
  },
  {
   "cell_type": "markdown",
   "id": "bf3e9b5d",
   "metadata": {},
   "source": [
    "# Heading 1\n",
    "## Heading 2\n",
    "### Heading 3\n",
    "#### Heading 4\n",
    "##### Heading 5\n",
    "###### Heading 6"
   ]
  },
  {
   "cell_type": "markdown",
   "id": "feca4892",
   "metadata": {},
   "source": [
    "Wrap the text you want to make bold with double asterisks ** or double underscores __."
   ]
  },
  {
   "cell_type": "markdown",
   "id": "5348fb2a",
   "metadata": {},
   "source": [
    "**My name is Rushikesh, this is bold** Now it's no more bold\n",
    "__My names is Rushikesh, this is also bold__ Now no more bold."
   ]
  },
  {
   "cell_type": "markdown",
   "id": "656e9965",
   "metadata": {},
   "source": [
    "Wrap the text you want to make italic with single asterisks * or single underscores _."
   ]
  },
  {
   "cell_type": "markdown",
   "id": "439fe970",
   "metadata": {},
   "source": [
    "*This is italic* now not italic\n",
    "_This is also italic_"
   ]
  },
  {
   "cell_type": "markdown",
   "id": "67115476",
   "metadata": {},
   "source": [
    "***Bold and italic text***\n",
    "___Bold and italic text___"
   ]
  },
  {
   "cell_type": "markdown",
   "id": "781748ea",
   "metadata": {},
   "source": [
    "Wrap the text you want to strike through with double tildes ~~."
   ]
  },
  {
   "cell_type": "markdown",
   "id": "fd73a56a",
   "metadata": {},
   "source": [
    "~~This text will be strikethrough~~"
   ]
  },
  {
   "cell_type": "markdown",
   "id": "cb9d2748",
   "metadata": {},
   "source": [
    "<u>This text will be underlined</u>\n"
   ]
  },
  {
   "cell_type": "markdown",
   "id": "67c0293b",
   "metadata": {},
   "source": [
    "3.3. Insert images and hyperlinks using Markdown syntax."
   ]
  },
  {
   "cell_type": "markdown",
   "id": "4522898e",
   "metadata": {},
   "source": [
    "![Python Logo](https://www.python.org/static/community_logos/python-logo.png)\n"
   ]
  },
  {
   "cell_type": "markdown",
   "id": "00b962b4",
   "metadata": {},
   "source": [
    "[Google](https://www.google.com)\n"
   ]
  },
  {
   "cell_type": "markdown",
   "id": "6f7be9f5",
   "metadata": {},
   "source": [
    "3.4. Create a Markdown cell with a list of your favorite programming languages."
   ]
  },
  {
   "cell_type": "markdown",
   "id": "834cf1a9",
   "metadata": {},
   "source": [
    "# My Favorite Programming Languages\n",
    "\n",
    "Here is a list of my favorite programming languages:\n",
    "\n",
    "1. Python\n",
    "2. C++\n",
    "3. C"
   ]
  },
  {
   "cell_type": "markdown",
   "id": "5dde1e5b",
   "metadata": {},
   "source": [
    "4.1. Write a Python function that calculates the factorial of a given number."
   ]
  },
  {
   "cell_type": "code",
   "execution_count": 2,
   "id": "e9b78706",
   "metadata": {},
   "outputs": [],
   "source": [
    "def fac(n):\n",
    "    if n==0:\n",
    "        return 1\n",
    "    else:\n",
    "     return n*fac(n-1)"
   ]
  },
  {
   "cell_type": "code",
   "execution_count": 3,
   "id": "ef495935",
   "metadata": {},
   "outputs": [
    {
     "name": "stdout",
     "output_type": "stream",
     "text": [
      "enter n 7\n"
     ]
    }
   ],
   "source": [
    "n=int(input('enter n '))"
   ]
  },
  {
   "cell_type": "code",
   "execution_count": 4,
   "id": "2b73e5e1",
   "metadata": {},
   "outputs": [
    {
     "name": "stdout",
     "output_type": "stream",
     "text": [
      "factorial is 5040\n"
     ]
    }
   ],
   "source": [
    "print('factorial is',fac(n))"
   ]
  },
  {
   "cell_type": "markdown",
   "id": "2428bf3c",
   "metadata": {},
   "source": [
    "4.3. Import a Python library (e.g., NumPy) and use it to perform a mathematical operation (e.g., calculate mean, median)."
   ]
  },
  {
   "cell_type": "code",
   "execution_count": 5,
   "id": "626172c3",
   "metadata": {},
   "outputs": [
    {
     "name": "stdout",
     "output_type": "stream",
     "text": [
      "Mean: 30.0\n",
      "Median: 30.0\n"
     ]
    }
   ],
   "source": [
    "import numpy as np\n",
    "\n",
    "# Define a list of numbers\n",
    "numbers = [10, 20, 30, 40, 50]\n",
    "\n",
    "# Calculate the mean using NumPy's mean() function\n",
    "mean = np.mean(numbers)\n",
    "print(\"Mean:\", mean)\n",
    "\n",
    "# Calculate the median using NumPy's median() function\n",
    "median = np.median(numbers)\n",
    "print(\"Median:\", median)\n"
   ]
  },
  {
   "cell_type": "markdown",
   "id": "b9c2a53b",
   "metadata": {},
   "source": [
    "4.4. Visualize data using Matplotlib or Seaborn libraries within a Jupyter Notebook."
   ]
  },
  {
   "cell_type": "code",
   "execution_count": 6,
   "id": "71f75951",
   "metadata": {},
   "outputs": [
    {
     "data": {
      "image/png": "[encoded data removed]",
      "text/plain": [
       "<Figure size 800x400 with 1 Axes>"
      ]
     },
     "metadata": {},
     "output_type": "display_data"
    }
   ],
   "source": [
    "import matplotlib.pyplot as plt\n",
    "# Generate 100 random numbers from a normal distribution with mean 0 and standard deviation 1\n",
    "data = np.random.normal(0, 1, 100)\n",
    "\n",
    "# Create a line plot\n",
    "plt.figure(figsize=(8, 4))\n",
    "plt.plot(data)\n",
    "plt.title('Line Plot of Random Data')\n",
    "plt.xlabel('Index')\n",
    "plt.ylabel('Value')\n",
    "plt.grid(True)\n",
    "plt.show()\n"
   ]
  },
  {
   "cell_type": "code",
   "execution_count": null,
   "id": "e2d0a0e0",
   "metadata": {},
   "outputs": [],
   "source": [
    "\n"
   ]
  }
 ],
 "metadata": {
  "kernelspec": {
   "display_name": "Python 3 (ipykernel)",
   "language": "python",
   "name": "python3"
  },
  "language_info": {
   "codemirror_mode": {
    "name": "ipython",
    "version": 3
   },
   "file_extension": ".py",
   "mimetype": "text/x-python",
   "name": "python",
   "nbconvert_exporter": "python",
   "pygments_lexer": "ipython3",
   "version": "3.11.4"
  }
 },
 "nbformat": 4,
 "nbformat_minor": 5
}
